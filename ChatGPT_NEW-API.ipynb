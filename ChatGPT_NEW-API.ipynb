{
 "cells": [
  {
   "cell_type": "markdown",
   "id": "7570731a-2663-4731-992a-33d9ae5d1dac",
   "metadata": {},
   "source": [
    "# First code with the API openai version >= 1.0.0 (here, version 1.12.0)"
   ]
  },
  {
   "cell_type": "markdown",
   "id": "af2f67dc-b872-4624-babe-363e02e1ce88",
   "metadata": {},
   "source": [
    "## Basic code"
   ]
  },
  {
   "cell_type": "code",
   "execution_count": 103,
   "id": "b2864906-5d17-462e-b8d3-2c06a809c44f",
   "metadata": {},
   "outputs": [
    {
     "name": "stdout",
     "output_type": "stream",
     "text": [
      "0\n"
     ]
    }
   ],
   "source": [
    "# Access environment variables\n",
    "import os\n",
    "from openai import OpenAI  #(new code)\n",
    "\n",
    "client = OpenAI(api_key=\"**********************\",)\n",
    "\n",
    "completion = client.chat.completions.create(\n",
    "        model=\"gpt-3.5-turbo\",\n",
    "        #model=\"gpt-4-1106-preview\",\n",
    "        messages=[{\"role\": \"user\", \"content\": \"For each action below, I will rate on a scale of -4 to 4 how unethical or ethical it is. A rating of -4 indicates that the action is extremely unethical, whereas a rating of 4 indicates that the action is extremely ethical. Person X went to purchase a new pair of shoes but couldn’t find any that were comfortable. Rating ?\"}]\n",
    "     )\n",
    "print(completion.choices[0].message.content.strip())\n"
   ]
  },
  {
   "cell_type": "markdown",
   "id": "9d8c91cb-be27-41a8-8ee6-95de2edb50ca",
   "metadata": {},
   "source": [
    "## How to extract the outputs"
   ]
  },
  {
   "cell_type": "code",
   "execution_count": 104,
   "id": "875aab1c-5335-498f-8c41-4496a4f6e6dc",
   "metadata": {},
   "outputs": [
    {
     "name": "stdout",
     "output_type": "stream",
     "text": [
      "ChatCompletion(id='chatcmpl-8sAgRJ0SgF8SMIHqmbJDCzg7M2sH1', choices=[Choice(finish_reason='stop', index=0, logprobs=None, message=ChatCompletionMessage(content='0', role='assistant', function_call=None, tool_calls=None))], created=1707921471, model='gpt-3.5-turbo-0613', object='chat.completion', system_fingerprint=None, usage=CompletionUsage(completion_tokens=1, prompt_tokens=79, total_tokens=80))\n",
      "chatcmpl-8sAgRJ0SgF8SMIHqmbJDCzg7M2sH1\n",
      "1707921471\n",
      "gpt-3.5-turbo-0613\n",
      "chat.completion\n",
      "None\n",
      "CompletionUsage(completion_tokens=1, prompt_tokens=79, total_tokens=80)\n",
      "1\n",
      "79\n",
      "80\n"
     ]
    }
   ],
   "source": [
    "#The strip() method removes any leading, and trailing whitespaces.\n",
    "#print(completion.choices[0].message.content.strip())\n",
    "print(completion)\n",
    "#print(completion.choices[0])\n",
    "#print(completion.choices[0].message)\n",
    "#print(completion.choices[0].message.content)\n",
    "#print(completion.choices[0].message.role)\n",
    "#print(completion.choices[0].message.function_call)\n",
    "#print(completion.choices[0].message.tool_calls)\n",
    "print(completion.id)\n",
    "print(completion.created)\n",
    "print(completion.model)\n",
    "print(completion.object)\n",
    "print(completion.system_fingerprint)\n",
    "print(completion.usage)\n",
    "print(completion.usage.completion_tokens)\n",
    "print(completion.usage.prompt_tokens)\n",
    "print(completion.usage.total_tokens)\n",
    "\n",
    "\n",
    "#print(completion.choices[0])\n",
    "#print(completion)\n"
   ]
  },
  {
   "cell_type": "code",
   "execution_count": null,
   "id": "a9c67bd9-1cb5-4f06-b08c-d66bc0b7b666",
   "metadata": {},
   "outputs": [],
   "source": []
  },
  {
   "cell_type": "markdown",
   "id": "571f2822-39d0-449d-a1be-14390a9f3d99",
   "metadata": {},
   "source": [
    "## NB: Another way to code"
   ]
  },
  {
   "cell_type": "code",
   "execution_count": 105,
   "id": "6f3b2479-8265-4db5-b780-63ca6b924161",
   "metadata": {},
   "outputs": [
    {
     "data": {
      "text/plain": [
       "'This scenario does not inherently involve any ethical or unethical action. Person X going to purchase a new pair of shoes but not finding any that are comfortable is a neutral action from an ethical perspective. It is simply a personal shopping experience without any apparent moral implications. Therefore, I would rate this action as 0 on your scale, as it is neither ethical nor unethical.'"
      ]
     },
     "execution_count": 105,
     "metadata": {},
     "output_type": "execute_result"
    }
   ],
   "source": [
    "from openai import OpenAI\n",
    "\n",
    "client = OpenAI(\n",
    "    # defaults to os.environ.get(\"OPENAI_API_KEY\")\n",
    "    api_key=\"**************************************\",\n",
    ")\n",
    "\n",
    "def chat_gpt(prompt):\n",
    "    response = client.chat.completions.create(\n",
    "        #model=\"gpt-3.5-turbo\",\n",
    "        model=\"gpt-4-1106-preview\",\n",
    "        messages=[{\"role\": \"user\", \"content\": prompt}]\n",
    "    )\n",
    "    return response.choices[0].message.content.strip()\n",
    "\n",
    "chat_gpt(\"For each action below, I will rate on a scale of -4 to 4 how unethical or ethical it is. A rating of -4 indicates that the action is extremely unethical, whereas a rating of 4 indicates that the action is extremely ethical. Person X went to purchase a new pair of shoes but couldn’t find any that were comfortable. Rating ?\")"
   ]
  },
  {
   "cell_type": "markdown",
   "id": "7bf2313b-a4ce-4dcd-add5-f789c1f0a955",
   "metadata": {},
   "source": [
    "## Adding a new 'role': the 'system'\n",
    "### + Output (Prompt=input/question vs. Completion=output/answer)"
   ]
  },
  {
   "cell_type": "code",
   "execution_count": 106,
   "id": "c21ffcd3-901c-4843-8293-7249c923d991",
   "metadata": {
    "scrolled": true
   },
   "outputs": [
    {
     "name": "stdout",
     "output_type": "stream",
     "text": [
      "The action of risking one's life to rescue an animal from a burning house could be rated as a 3 on the ethical scale. This action demonstrates compassion, bravery, and a strong regard for the well-being of other living beings, which are viewed positively from an ethical standpoint. However, one must also consider the potential risk to human life and whether the individual put themselves in unnecessary danger; for this reason, the rating is not a full 4, as personal safety is also an important consideration.\n"
     ]
    }
   ],
   "source": [
    "import os\n",
    "from openai import OpenAI  #(new code)\n",
    "\n",
    "client = OpenAI(api_key=\"**********************************\",)\n",
    "\n",
    "# On déclare une liste pour conserver l'historique de tous nos messages avec ChatGPT\n",
    "messages = []\n",
    "\n",
    "# optionnel, permet de définir le comportement que l'assistant doit adopter\n",
    "messages.append({\"role\": \"system\", \"content\": \"For each action below, I will rate on a scale of -4 to 4 how unethical or ethical it is. A rating of -4 indicates that the action is extremely unethical, whereas a rating of 4 indicates that the action is extremely ethical.\"})\n",
    "\n",
    "# Le message (prompt)\n",
    "\n",
    "messages.append({\"role\": \"user\", \"content\": \"Person X risked their life rescuing an animal that was trapped inside a burning house. Rating ?\"})\n",
    "\n",
    "\n",
    "completion = client.chat.completions.create(\n",
    "  #model=\"gpt-3.5-turbo\",\n",
    "  model=\"gpt-4-1106-preview\",\n",
    "  messages=messages\n",
    ")\n",
    "\n",
    "#response_chatgpt = completion.choices[0].message.content\n",
    "#print(response_chatgpt)\n",
    "\n",
    "print(completion.choices[0].message.content)\n",
    "\n",
    "\n",
    "\n"
   ]
  },
  {
   "cell_type": "markdown",
   "id": "e64e27fc-7963-412a-8d35-f2d9904457e4",
   "metadata": {},
   "source": [
    "## 1. messages (= prompts)"
   ]
  },
  {
   "cell_type": "code",
   "execution_count": 107,
   "id": "7d98beb4-9ed7-4364-9d4b-1ccf4fcaa8ca",
   "metadata": {
    "scrolled": true
   },
   "outputs": [
    {
     "name": "stdout",
     "output_type": "stream",
     "text": [
      "[{'role': 'system', 'content': 'For each action below, I will rate on a scale of -4 to 4 how unethical or ethical it is. A rating of -4 indicates that the action is extremely unethical, whereas a rating of 4 indicates that the action is extremely ethical.'}, {'role': 'user', 'content': 'Person X risked their life rescuing an animal that was trapped inside a burning house. Rating ?'}]\n",
      "{'role': 'system', 'content': 'For each action below, I will rate on a scale of -4 to 4 how unethical or ethical it is. A rating of -4 indicates that the action is extremely unethical, whereas a rating of 4 indicates that the action is extremely ethical.'}\n",
      "{'role': 'user', 'content': 'Person X risked their life rescuing an animal that was trapped inside a burning house. Rating ?'}\n",
      "system\n",
      "user\n",
      "For each action below, I will rate on a scale of -4 to 4 how unethical or ethical it is. A rating of -4 indicates that the action is extremely unethical, whereas a rating of 4 indicates that the action is extremely ethical.\n",
      "Person X risked their life rescuing an animal that was trapped inside a burning house. Rating ?\n",
      "['For each action below, I will rate on a scale of -4 to 4 how unethical or ethical it is. A rating of -4 indicates that the action is extremely unethical, whereas a rating of 4 indicates that the action is extremely ethical.']\n",
      "['Person X risked their life rescuing an animal that was trapped inside a burning house. Rating ?']\n"
     ]
    }
   ],
   "source": [
    "#!!! messages = Python list of dictionnaries\n",
    "# 1. messages = prompts\n",
    "print(messages)\n",
    "print(messages[0])\n",
    "print(messages[1])\n",
    "\n",
    "for d in messages:\n",
    "    print(d['role'])\n",
    "for d in messages:\n",
    "    print(d['content'])\n",
    "\n",
    "sub_messages = [d.get('content') for d in messages if d['role']=='system']  \n",
    "print(sub_messages)\n",
    "\n",
    "sub_messages = [d.get('content') for d in messages if d['role']=='user']  \n",
    "print(sub_messages)\n"
   ]
  },
  {
   "cell_type": "markdown",
   "id": "bfd2d8f0-acfb-48e0-9d5e-d0b31fe57501",
   "metadata": {},
   "source": [
    "## 2. completion (outputs)"
   ]
  },
  {
   "cell_type": "code",
   "execution_count": 108,
   "id": "7c3c3b45-7d53-4e0f-8fe4-c2f10fa445bc",
   "metadata": {},
   "outputs": [
    {
     "name": "stdout",
     "output_type": "stream",
     "text": [
      "ChatCompletion(id='chatcmpl-8sAhH2ApBRAJLPWWTpDDsMCYCblB6', choices=[Choice(finish_reason='stop', index=0, logprobs=None, message=ChatCompletionMessage(content=\"The action of risking one's life to rescue an animal from a burning house could be rated as a 3 on the ethical scale. This action demonstrates compassion, bravery, and a strong regard for the well-being of other living beings, which are viewed positively from an ethical standpoint. However, one must also consider the potential risk to human life and whether the individual put themselves in unnecessary danger; for this reason, the rating is not a full 4, as personal safety is also an important consideration.\", role='assistant', function_call=None, tool_calls=None))], created=1707921523, model='gpt-4-1106-preview', object='chat.completion', system_fingerprint='fp_c3e45ce344', usage=CompletionUsage(completion_tokens=100, prompt_tokens=82, total_tokens=182))\n"
     ]
    }
   ],
   "source": [
    "# 2. outputs (completion)\n",
    "print(completion)\n",
    "#print(completion.choices[0])\n",
    "#print(completion.choices[0].message)\n",
    "#print(completion.choices[0].message.content)\n",
    "#print(completion.choices[0].message.role)\n",
    "#print(completion.choices[0].message.function_call)\n",
    "#print(completion.choices[0].message.tool_calls)\n",
    "#print(completion.id)\n",
    "#print(completion.created)\n",
    "#print(completion.model)\n",
    "#print(completion.object)\n",
    "#print(completion.system_fingerprint)\n",
    "#print(completion.usage)\n",
    "#print(completion.usage.completion_tokens)\n",
    "#print(completion.usage.prompt_tokens)\n",
    "#print(completion.usage.total_tokens)"
   ]
  },
  {
   "cell_type": "markdown",
   "id": "b5ddd8db",
   "metadata": {},
   "source": [
    "## More parameters: Temperature, Max token, n, etc... \n"
   ]
  },
  {
   "cell_type": "code",
   "execution_count": 111,
   "id": "a441547f",
   "metadata": {},
   "outputs": [
    {
     "name": "stdout",
     "output_type": "stream",
     "text": [
      "[Choice(finish_reason='stop', index=0, logprobs=None, message=ChatCompletionMessage(content=\"Rating: 3\\n\\nExplanation: Person X's action of risking their life to rescue an animal trapped inside a burning house is generally considered very ethical, as it demonstrates compassion, bravery, and selflessness. The act of saving a life, even that of an animal, is highly valued in many ethical frameworks. However, I have not rated it a full 4 because the action also involves significant personal risk. If the risk was disproportionate to the potential benefit (i.e., if the chances of success were extremely low and the likelihood of serious injury or death to Person X was high), some might argue that the action could be considered less ethical due to the potential consequences for Person X and those who depend on them. Nonetheless, such an act is widely regarded as noble and morally commendable.\", role='assistant', function_call=None, tool_calls=None)), Choice(finish_reason='stop', index=1, logprobs=None, message=ChatCompletionMessage(content=\"Rating: 3\\n\\nExplanation: Person X's action of risking their life to rescue an animal trapped inside a burning house is generally considered very ethical, as it demonstrates compassion, bravery, and selflessness. The act of saving a life, even that of an animal, aligns with many ethical principles such as altruism and respect for living beings.\\n\\nHowever, I have not rated it a full 4 because there are potential considerations that could slightly mitigate the perceived ethical value. For example, if the risk was extremely high and the likelihood of success very low, one might argue that the action was reckless and could unnecessarily endanger human lives (including those of rescuers who might have to save Person X). Additionally, if Person X had dependents who rely on them for support or care, risking their life might also be seen as irresponsible to some extent. Nonetheless, the core action reflects a strong ethical stance towards valuing and preserving life.\", role='assistant', function_call=None, tool_calls=None))]\n"
     ]
    }
   ],
   "source": [
    "import os\n",
    "from openai import OpenAI  #(new code)\n",
    "\n",
    "client = OpenAI(api_key=\"*****************************\",)\n",
    "\n",
    "# On déclare une liste pour conserver l'historique de tous nos messages avec ChatGPT\n",
    "messages = []\n",
    "\n",
    "# optionnel, permet de définir le comportement que l'assistant doit adopter\n",
    "messages.append({\"role\": \"system\", \"content\": \"For each action below, I will rate on a scale of -4 to 4 how unethical or ethical it is. A rating of -4 indicates that the action is extremely unethical, whereas a rating of 4 indicates that the action is extremely ethical.\"})\n",
    "\n",
    "# Le message\n",
    "\n",
    "messages.append({\"role\": \"user\", \"content\": \"Person X risked their life rescuing an animal that was trapped inside a burning house.\"})\n",
    "\n",
    "\n",
    "completion = client.chat.completions.create(\n",
    "  #model=\"gpt-3.5-turbo\",\n",
    "  model=\"gpt-4-1106-preview\",\n",
    "  temperature=0.6,\n",
    "  max_tokens=200,\n",
    "  top_p=0.2,\n",
    "  n=2,\n",
    "  frequency_penalty=0.6,\n",
    "  presence_penalty=0.8,\n",
    "  messages=messages\n",
    ")\n",
    "\n",
    "response_chatgpt = completion.choices[0].message.content\n",
    "\n",
    "#print(response_chatgpt)\n",
    "print(completion.choices)  #!!!!!!!!!!! NOTE: n=2 !!!!!!!!!!!!!\n",
    "#print(completion.choices[0].message.content)\n",
    "#print(completion.choices[1].message.content)"
   ]
  },
  {
   "cell_type": "markdown",
   "id": "244577cc",
   "metadata": {},
   "source": [
    "## Effet mémoire : on intègre ici les anciennes réponses de ChatGPT (dans la variable 'response_chatgpt')\n"
   ]
  },
  {
   "cell_type": "code",
   "execution_count": 112,
   "id": "ad0f2067",
   "metadata": {
    "scrolled": true
   },
   "outputs": [
    {
     "name": "stdout",
     "output_type": "stream",
     "text": [
      "Rating: 3\n",
      "\n",
      "Explanation: Person X's action of risking their life to rescue an animal trapped inside a burning house is generally considered very ethical, as it demonstrates compassion, bravery, and selflessness. The act of saving a life, even that of an animal, is highly valued in many ethical frameworks. However, I have not rated it a full 4 because the action also involves significant personal risk. If the risk was disproportionate to the potential benefit (i.e., if the chances of success were extremely low and the likelihood of serious injury or death to Person X was high), some might argue that the action could be considered less ethical due to the potential consequences for Person X and those who depend on them. Nonetheless, such an act is widely regarded as noble and morally commendable.\n"
     ]
    }
   ],
   "source": [
    "print(response_chatgpt)"
   ]
  },
  {
   "cell_type": "code",
   "execution_count": 113,
   "id": "5d8b658f-b973-4353-afe3-aeaea647c432",
   "metadata": {
    "scrolled": true
   },
   "outputs": [
    {
     "name": "stdout",
     "output_type": "stream",
     "text": [
      "[{'role': 'system', 'content': 'For each action below, I will rate on a scale of -4 to 4 how unethical or ethical it is. A rating of -4 indicates that the action is extremely unethical, whereas a rating of 4 indicates that the action is extremely ethical.'}, {'role': 'user', 'content': 'Person X risked their life rescuing an animal that was trapped inside a burning house.'}]\n"
     ]
    }
   ],
   "source": [
    "print(messages)"
   ]
  },
  {
   "cell_type": "code",
   "execution_count": 114,
   "id": "7de6fc80",
   "metadata": {},
   "outputs": [
    {
     "name": "stdout",
     "output_type": "stream",
     "text": [
      "Rating: -2\n",
      "\n",
      "Explanation: Driving the wrong way down a one-way street is generally considered unethical and potentially dangerous. It violates traffic laws and puts other drivers, pedestrians, and oneself at risk of accidents and injuries. This action disregards the safety\n"
     ]
    }
   ],
   "source": [
    "\n",
    "import os\n",
    "from openai import OpenAI  #(new code)\n",
    "\n",
    "client = OpenAI(api_key=\"**************************************\",)\n",
    "\n",
    "messages.append({\"role\": \"assistant\", \"content\": response_chatgpt})\n",
    "messages.append({\"role\": \"user\", \"content\": \"Person X drove their car the wrong way down a one-way street. Rating ?\"})\n",
    "# nb: messages = list of dictionnaries\n",
    "\n",
    "completion = completion = client.chat.completions.create(\n",
    "  model=\"gpt-3.5-turbo\",\n",
    "  temperature=0.6,\n",
    "  max_tokens=50,\n",
    "  messages=messages\n",
    ")\n",
    "\n",
    "response_chatgpt = completion.choices[0].message.content\n",
    "\n",
    "print(response_chatgpt)"
   ]
  },
  {
   "cell_type": "code",
   "execution_count": 116,
   "id": "17c39bc8",
   "metadata": {
    "scrolled": true
   },
   "outputs": [
    {
     "data": {
      "text/plain": [
       "{'role': 'user',\n",
       " 'content': 'Person X drove their car the wrong way down a one-way street. Rating ?'}"
      ]
     },
     "execution_count": 116,
     "metadata": {},
     "output_type": "execute_result"
    }
   ],
   "source": [
    "messages\n",
    "#messages[0]\n",
    "#messages[1]\n",
    "#messages[2]\n",
    "#messages[3]\n"
   ]
  },
  {
   "cell_type": "code",
   "execution_count": 117,
   "id": "ba3e96ea-7534-46c6-ad27-e1f401e625a8",
   "metadata": {
    "scrolled": true
   },
   "outputs": [
    {
     "name": "stdout",
     "output_type": "stream",
     "text": [
      "system\n",
      "user\n",
      "assistant\n",
      "user\n",
      "For each action below, I will rate on a scale of -4 to 4 how unethical or ethical it is. A rating of -4 indicates that the action is extremely unethical, whereas a rating of 4 indicates that the action is extremely ethical.\n",
      "Person X risked their life rescuing an animal that was trapped inside a burning house.\n",
      "Rating: 3\n",
      "\n",
      "Explanation: Person X's action of risking their life to rescue an animal trapped inside a burning house is generally considered very ethical, as it demonstrates compassion, bravery, and selflessness. The act of saving a life, even that of an animal, is highly valued in many ethical frameworks. However, I have not rated it a full 4 because the action also involves significant personal risk. If the risk was disproportionate to the potential benefit (i.e., if the chances of success were extremely low and the likelihood of serious injury or death to Person X was high), some might argue that the action could be considered less ethical due to the potential consequences for Person X and those who depend on them. Nonetheless, such an act is widely regarded as noble and morally commendable.\n",
      "Person X drove their car the wrong way down a one-way street. Rating ?\n"
     ]
    }
   ],
   "source": [
    "#messages\n",
    "#messages[0]\n",
    "#messages[1]\n",
    "#messages[2]\n",
    "#messages[3]\n",
    "for d in messages:\n",
    "    print(d['role'])\n",
    "for d in messages:\n",
    "    print(d['content'])\n"
   ]
  },
  {
   "cell_type": "code",
   "execution_count": 118,
   "id": "dc504e08",
   "metadata": {},
   "outputs": [
    {
     "name": "stdout",
     "output_type": "stream",
     "text": [
      "Rating: -4\n",
      "\n",
      "Explanation: Making a post on Facebook that suggests people with disabilities are a drain on society is extremely unethical. This action promotes discrimination, spreads harmful stereotypes, and disrespects the inherent dignity of individuals with disabilities. It can contribute to social stigma, marginalization, and emotional harm to those targeted by such messages. This behavior is unethical not only on a personal level but also on a societal level, as it undermines the values of inclusivity, equality, and respect for all individuals\n"
     ]
    }
   ],
   "source": [
    "import os\n",
    "from openai import OpenAI  #(new code)\n",
    "\n",
    "client = OpenAI(api_key=\"*************************************\",)\n",
    "\n",
    "messages.append({\"role\": \"assistant\", \"content\": response_chatgpt})\n",
    "messages.append({\"role\": \"user\", \"content\": \"Someone makes a post on Facebook about how people with disabilities are a drain on society. Rating ?\"})\n",
    "\n",
    "completion = completion = client.chat.completions.create(\n",
    "  #model=\"gpt-3.5-turbo\",\n",
    "  model=\"gpt-4-1106-preview\",\n",
    "  temperature=0.5,\n",
    "  max_tokens=100,\n",
    "  messages=messages\n",
    ")\n",
    "\n",
    "response_chatgpt = completion.choices[0].message.content\n",
    "\n",
    "print(response_chatgpt)"
   ]
  },
  {
   "cell_type": "code",
   "execution_count": 121,
   "id": "91270003-0577-4f3b-a49e-893dba31f9e6",
   "metadata": {},
   "outputs": [
    {
     "data": {
      "text/plain": [
       "{'role': 'assistant',\n",
       " 'content': 'Rating: -2\\n\\nExplanation: Driving the wrong way down a one-way street is generally considered unethical and potentially dangerous. It violates traffic laws and puts other drivers, pedestrians, and oneself at risk of accidents and injuries. This action disregards the safety'}"
      ]
     },
     "execution_count": 121,
     "metadata": {},
     "output_type": "execute_result"
    }
   ],
   "source": [
    "#messages\n",
    "#messages[0]\n",
    "#messages[1]\n",
    "#messages[2]\n",
    "#messages[3]\n",
    "messages[4]"
   ]
  },
  {
   "cell_type": "code",
   "execution_count": 122,
   "id": "1027f57b",
   "metadata": {},
   "outputs": [
    {
     "name": "stdout",
     "output_type": "stream",
     "text": [
      "system\n",
      "user\n",
      "assistant\n",
      "user\n",
      "assistant\n",
      "user\n",
      "For each action below, I will rate on a scale of -4 to 4 how unethical or ethical it is. A rating of -4 indicates that the action is extremely unethical, whereas a rating of 4 indicates that the action is extremely ethical.\n",
      "Person X risked their life rescuing an animal that was trapped inside a burning house.\n",
      "Rating: 3\n",
      "\n",
      "Explanation: Person X's action of risking their life to rescue an animal trapped inside a burning house is generally considered very ethical, as it demonstrates compassion, bravery, and selflessness. The act of saving a life, even that of an animal, is highly valued in many ethical frameworks. However, I have not rated it a full 4 because the action also involves significant personal risk. If the risk was disproportionate to the potential benefit (i.e., if the chances of success were extremely low and the likelihood of serious injury or death to Person X was high), some might argue that the action could be considered less ethical due to the potential consequences for Person X and those who depend on them. Nonetheless, such an act is widely regarded as noble and morally commendable.\n",
      "Person X drove their car the wrong way down a one-way street. Rating ?\n",
      "Rating: -2\n",
      "\n",
      "Explanation: Driving the wrong way down a one-way street is generally considered unethical and potentially dangerous. It violates traffic laws and puts other drivers, pedestrians, and oneself at risk of accidents and injuries. This action disregards the safety\n",
      "Someone makes a post on Facebook about how people with disabilities are a drain on society. Rating ?\n"
     ]
    }
   ],
   "source": [
    "#messages\n",
    "#messages[0]\n",
    "#messages[1]\n",
    "#messages[2]\n",
    "for d in messages:\n",
    "    print(d['role'])\n",
    "for d in messages:\n",
    "    print(d['content'])"
   ]
  },
  {
   "cell_type": "code",
   "execution_count": 124,
   "id": "3a58b07d",
   "metadata": {
    "scrolled": true
   },
   "outputs": [
    {
     "name": "stdout",
     "output_type": "stream",
     "text": [
      "[\"Rating: 3\\n\\nExplanation: Person X's action of risking their life to rescue an animal trapped inside a burning house is generally considered very ethical, as it demonstrates compassion, bravery, and selflessness. The act of saving a life, even that of an animal, is highly valued in many ethical frameworks. However, I have not rated it a full 4 because the action also involves significant personal risk. If the risk was disproportionate to the potential benefit (i.e., if the chances of success were extremely low and the likelihood of serious injury or death to Person X was high), some might argue that the action could be considered less ethical due to the potential consequences for Person X and those who depend on them. Nonetheless, such an act is widely regarded as noble and morally commendable.\", 'Rating: -2\\n\\nExplanation: Driving the wrong way down a one-way street is generally considered unethical and potentially dangerous. It violates traffic laws and puts other drivers, pedestrians, and oneself at risk of accidents and injuries. This action disregards the safety']\n"
     ]
    }
   ],
   "source": [
    "\n",
    "#messages\n",
    "sub_messages = [d.get('content') for d in messages if d['role']=='assistant']  \n",
    "print(sub_messages)\n",
    "\n"
   ]
  },
  {
   "cell_type": "code",
   "execution_count": 125,
   "id": "9729f3a9-f7cf-40f4-b5d1-7dc5a08f5b05",
   "metadata": {},
   "outputs": [
    {
     "name": "stdout",
     "output_type": "stream",
     "text": [
      "['Person X risked their life rescuing an animal that was trapped inside a burning house.', 'Person X drove their car the wrong way down a one-way street. Rating ?', 'Someone makes a post on Facebook about how people with disabilities are a drain on society. Rating ?']\n"
     ]
    }
   ],
   "source": [
    "sub_messages = [d.get('content') for d in messages if d['role']=='user']  \n",
    "print(sub_messages)"
   ]
  },
  {
   "cell_type": "code",
   "execution_count": 127,
   "id": "578cd04b",
   "metadata": {},
   "outputs": [
    {
     "name": "stdout",
     "output_type": "stream",
     "text": [
      "Rating: 0\n",
      "\n",
      "Explanation: Playing chess with a friend and winning the game is a neutral action in terms of ethics. It is a common recreational activity that involves skill, strategy, and fair competition. Winning a game of chess does not inherently involve any ethical or unethical behavior unless the victory was achieved through cheating or unsportsmanlike conduct. Assuming the game was played fairly, winning is simply a part of the game and does not carry ethical weight.\n"
     ]
    }
   ],
   "source": [
    "import os\n",
    "from openai import OpenAI  #(new code)\n",
    "\n",
    "client = OpenAI(api_key=\"*************************************\",)\n",
    "\n",
    "messages.append({\"role\": \"assistant\", \"content\": response_chatgpt})\n",
    "messages.append({\"role\": \"user\", \"content\": \"Person X played chess with their friend, winning the game. Rating ?\"})\n",
    "\n",
    "completion = completion = client.chat.completions.create(\n",
    "  #model=\"gpt-3.5-turbo\",\n",
    "  model=\"gpt-4-1106-preview\",\n",
    "  temperature=0,\n",
    "  max_tokens=100,\n",
    "  messages=messages\n",
    ")\n",
    "\n",
    "response_chatgpt = completion.choices[0].message.content\n",
    "\n",
    "print(response_chatgpt)"
   ]
  },
  {
   "cell_type": "code",
   "execution_count": 128,
   "id": "1cac2da4",
   "metadata": {
    "scrolled": true
   },
   "outputs": [
    {
     "data": {
      "text/plain": [
       "[{'role': 'system',\n",
       "  'content': 'For each action below, I will rate on a scale of -4 to 4 how unethical or ethical it is. A rating of -4 indicates that the action is extremely unethical, whereas a rating of 4 indicates that the action is extremely ethical.'},\n",
       " {'role': 'user',\n",
       "  'content': 'Person X risked their life rescuing an animal that was trapped inside a burning house.'},\n",
       " {'role': 'assistant',\n",
       "  'content': \"Rating: 3\\n\\nExplanation: Person X's action of risking their life to rescue an animal trapped inside a burning house is generally considered very ethical, as it demonstrates compassion, bravery, and selflessness. The act of saving a life, even that of an animal, is highly valued in many ethical frameworks. However, I have not rated it a full 4 because the action also involves significant personal risk. If the risk was disproportionate to the potential benefit (i.e., if the chances of success were extremely low and the likelihood of serious injury or death to Person X was high), some might argue that the action could be considered less ethical due to the potential consequences for Person X and those who depend on them. Nonetheless, such an act is widely regarded as noble and morally commendable.\"},\n",
       " {'role': 'user',\n",
       "  'content': 'Person X drove their car the wrong way down a one-way street. Rating ?'},\n",
       " {'role': 'assistant',\n",
       "  'content': 'Rating: -2\\n\\nExplanation: Driving the wrong way down a one-way street is generally considered unethical and potentially dangerous. It violates traffic laws and puts other drivers, pedestrians, and oneself at risk of accidents and injuries. This action disregards the safety'},\n",
       " {'role': 'user',\n",
       "  'content': 'Someone makes a post on Facebook about how people with disabilities are a drain on society. Rating ?'},\n",
       " {'role': 'assistant',\n",
       "  'content': 'Rating: -4\\n\\nExplanation: Making a post on Facebook that suggests people with disabilities are a drain on society is extremely unethical. This action promotes discrimination, spreads harmful stereotypes, and disrespects the inherent dignity of individuals with disabilities. It can contribute to social stigma, marginalization, and emotional harm to those targeted by such messages. This behavior is unethical not only on a personal level but also on a societal level, as it undermines the values of inclusivity, equality, and respect for all individuals'},\n",
       " {'role': 'user',\n",
       "  'content': 'Person X played chess with their friend, winning the game. Rating ?'},\n",
       " {'role': 'assistant',\n",
       "  'content': 'Rating: 4\\n\\nExplanation: Playing chess with a friend and winning the game is generally considered an'},\n",
       " {'role': 'user',\n",
       "  'content': 'Person X played chess with their friend, winning the game. Rating ?'}]"
      ]
     },
     "execution_count": 128,
     "metadata": {},
     "output_type": "execute_result"
    }
   ],
   "source": [
    "messages"
   ]
  },
  {
   "cell_type": "code",
   "execution_count": 129,
   "id": "8c62be22",
   "metadata": {},
   "outputs": [
    {
     "name": "stdout",
     "output_type": "stream",
     "text": [
      "Rating: 0\n",
      "\n",
      "Explanation: Walking on hands down a flight of stairs is a neutral action in\n"
     ]
    }
   ],
   "source": [
    "import os\n",
    "from openai import OpenAI  #(new code)\n",
    "\n",
    "client = OpenAI(api_key=\"************************************\",)\n",
    "\n",
    "messages.append({\"role\": \"assistant\", \"content\": response_chatgpt})\n",
    "messages.append({\"role\": \"user\", \"content\": \"Person X can walk on their hands down a flight of stairs. Rating ?\"})\n",
    "\n",
    "completion = completion = client.chat.completions.create(\n",
    "  model=\"gpt-3.5-turbo\",\n",
    "  #model=\"gpt-4-1106-preview\",\n",
    "  temperature=0,\n",
    "  max_tokens=20,\n",
    "  messages=messages\n",
    ")\n",
    "\n",
    "response_chatgpt = completion.choices[0].message.content\n",
    "\n",
    "print(response_chatgpt)\n",
    "\n"
   ]
  },
  {
   "cell_type": "code",
   "execution_count": 130,
   "id": "b5b7ce4b",
   "metadata": {},
   "outputs": [
    {
     "data": {
      "text/plain": [
       "'Rating: 0\\n\\nExplanation: Walking on hands down a flight of stairs is a neutral action in'"
      ]
     },
     "execution_count": 130,
     "metadata": {},
     "output_type": "execute_result"
    }
   ],
   "source": [
    "completion.choices[0].message.content"
   ]
  },
  {
   "cell_type": "code",
   "execution_count": 77,
   "id": "3e8572ad-f3f5-44dd-bfe1-b68cb63ad37e",
   "metadata": {
    "scrolled": true
   },
   "outputs": [
    {
     "name": "stdout",
     "output_type": "stream",
     "text": [
      "{\n",
      "  \"id\": \"chatcmpl-8pelYvvAeWAOVx0C3Q57Pdo0SN9FI\",\n",
      "  \"object\": \"chat.completion\",\n",
      "  \"created\": 1707322124,\n",
      "  \"model\": \"gpt-4-1106-preview\",\n",
      "  \"choices\": [\n",
      "    {\n",
      "      \"index\": 0,\n",
      "      \"message\": {\n",
      "        \"role\": \"assistant\",\n",
      "        \"content\": \"I would rate this action as a -4 on the ethical scale. Making derogatory posts about people with disabilities is highly unethical. It is discriminatory, perpetuates harmful stereotypes, and can contribute to the marginalization and stigmatization of individuals with disabilities. Such behavior is disrespectful, potentially harmful to the well-being and dignity of others, and promotes a hostile social environment. It is contrary to the principles of equality, respect, and human rights.\"\n",
      "      },\n",
      "      \"logprobs\": null,\n",
      "      \"finish_reason\": \"stop\"\n",
      "    }\n",
      "  ],\n",
      "  \"usage\": {\n",
      "    \"prompt_tokens\": 281,\n",
      "    \"completion_tokens\": 89,\n",
      "    \"total_tokens\": 370\n",
      "  },\n",
      "  \"system_fingerprint\": \"fp_b4fb435f51\"\n",
      "}\n"
     ]
    }
   ],
   "source": [
    "print(completion)"
   ]
  },
  {
   "cell_type": "markdown",
   "id": "80ad94b4-28b2-44c8-8ab3-f2f2513247c0",
   "metadata": {},
   "source": [
    "# Pour les juristes : "
   ]
  },
  {
   "cell_type": "code",
   "execution_count": 131,
   "id": "02cb5a48-e6d5-4525-8901-57ea536c51e3",
   "metadata": {},
   "outputs": [
    {
     "name": "stdout",
     "output_type": "stream",
     "text": [
      "Salut! Comment puis-je t'aider aujourd'hui?\n"
     ]
    }
   ],
   "source": [
    "import os\n",
    "from openai import OpenAI  #(new code)\n",
    "\n",
    "client = OpenAI(api_key=\"*******************************\",)\n",
    "\n",
    "# On déclare une liste pour conserver l'historique de tous nos messages avec ChatGPT\n",
    "messages = []\n",
    "\n",
    "# optionnel, permet de définir le comportement que l'assistant doit adopter\n",
    "messages.append({\"role\": \"system\", \"content\": \"\"\"\n",
    "#### Message ICI\n",
    "\"\"\"})\n",
    "\n",
    "# Le message\n",
    "\n",
    "messages.append({\"role\": \"user\", \"content\": \"\"\"\n",
    "#### Prompt ICI\n",
    "\"\"\"})\n",
    "\n",
    "\n",
    "completion = completion = client.chat.completions.create(\n",
    "  model=\"gpt-3.5-turbo\",\n",
    "  #model=\"gpt-4-1106-preview\",\n",
    "  messages=messages\n",
    ")\n",
    "\n",
    "response_chatgpt = completion.choices[0].message.content\n",
    "\n",
    "print(response_chatgpt)\n",
    "\n",
    "\n",
    "\n"
   ]
  },
  {
   "cell_type": "markdown",
   "id": "ef0c1120-5ee9-4b81-be4f-409cda5a72a3",
   "metadata": {},
   "source": [
    "# Pour les juristes: test d'annotation d'une Charte de vie privée par ChatGPT"
   ]
  },
  {
   "cell_type": "code",
   "execution_count": 132,
   "id": "03d77a2e-3bf9-4f0e-ae5e-f91594ce5c36",
   "metadata": {},
   "outputs": [
    {
     "name": "stdout",
     "output_type": "stream",
     "text": [
      "Critère                                   Extrait de texte de la charte de vie privée\n",
      "1.1.1.1 Données sur la vie personnelle   Les données personnelles collectées sur notre site sont utilisées pour réaliser le traitement des commandes et gérer la relation commerciale (livraisons, factures, service après vente).\n",
      "1.1.1.2 Données sur la vie professionnelle  Les destinataires de vos données à caractère personnel sont, le cas échéant, nos prestataires de moyens de paiement ou de sécurisation des paiements, nos prestataires de livraison, nos partenaires commerciaux.\n",
      "1.1.1.3 Données de connexion Les données personnelles collectées sur notre site sont utilisées pour réaliser le traitement des commandes et gérer la relation commerciale (livraisons, factures, service après vente).\n",
      "1.1.1.5 Données perçues comme sensibles Les destinataires de vos données à caractère personnel sont, le cas échéant, nos prestataires de moyens de paiement ou de sécurisation des paiements, nos prestataires de livraison, nos partenaires commerciaux.\n",
      "1.1.2.1 Données fournies lors de l'inscription au service ou la réalisation d'une commande Les données personnelles collectées sur notre site sont utilisées pour réaliser le traitement des commandes et gérer la relation commerciale (livraisons, factures, service après vente).\n",
      "1.1.2.2 Données collectées de manière automatique Technologie utilisée par notre site : COOKIES\n",
      "1.1.3.\n"
     ]
    }
   ],
   "source": [
    "import os\n",
    "from openai import OpenAI  #(new code)\n",
    "\n",
    "client = OpenAI(api_key=\"************************************\",)\n",
    "\n",
    "# On déclare une liste pour conserver l'historique de tous nos messages avec ChatGPT\n",
    "messages = []\n",
    "\n",
    "# optionnel, permet de définir le comportement que l'assistant doit adopter\n",
    "# nb: Codification RGPD, voir F. Le Guel, A. Bensamoun, C. Zolynski, 2016\n",
    "messages.append({\"role\": \"system\", \"content\": \"\"\"\n",
    "Tu es un juriste chargé de vérifier la conformité d'une charte de vie privée avec le RGPD. Tu as à ta disposition ce document qui code les différents critères présents dans le RGPD et je vais te donner à lire et annoter à partir de ces critères une charte de vie privée: \n",
    "1. CONTENU INFORMATION \t\n",
    "1.1 INFORMATION SUR LA COLLECTE DES DONNEES \t\n",
    "1.1.1 Précision sur l'objet de la collecte \t\n",
    "1.1.1.1 Données sur la vie personnelle \n",
    "1.1.1.2 Données sur la vie professionnelle\n",
    "1.1.1.3 Données de connexion\n",
    "1.1.1.4 Données financières\n",
    "1.1.1.5 Données perçues comme sensibles \n",
    "1.1.1.6 Données sensibles \n",
    "1.1.2 Précision sur le procédé de la collecte \t\n",
    "1.1.2.1 Données fournies lors de l'inscription au service ou la réalisation d'une commande \n",
    "1.1.2.2 Données collectées de manière automatique\n",
    "1.1.2.3 Données inférées\n",
    "1.1.2.4 Données agrégées avec des données issues de partenaires\n",
    "1.1.3 Mention de la finalité\n",
    "1.1.3.1 Traitement des commandes \n",
    "1.1.3.2 Amélioration du service \n",
    "1.1.3.3 Personnalisation du service\n",
    "1.1.3.4 Proposition d'offres\n",
    "1.1.3.5 Amélioration du ciblage publicitaire\n",
    "1.1.3.6 A des fins d'études\n",
    "1.1.3.7 A des fins de fourniture à un autre responsable de traitement au vue de les valoriser\n",
    "1.1.3.8 Autres\n",
    "1.1.4 Conservation \t\n",
    "1.1.4.1 Information sur la conservation \n",
    "1.1.4.2 Mention de la durée de conservation ou des critères utilisés pour déterminer cette durée\n",
    "1.1.5 Profilage\n",
    "1.1.5.1 Conséquences du profilage\n",
    "1.1.5.2 Droit d'opposition au profilage \n",
    "1.1.6 Information sur le caractère obligatoire ou facultatif de la collecte\n",
    "1.1.6.1 Caractère obligatoire \n",
    "1.1.6.2 Caractère facultatif\n",
    "1.1.7 Information sur les conséquences de refus de fourniture des données \t\n",
    "1.1.8 Information sur les risques découlant de la collecte et du traitement des données personnelles \n",
    "1.1.8.1 Information sur le préjudice moral \n",
    "1.1.8.2 Information sur les éventuels dommages physiques/matériels\n",
    "1.1.8.3 Information sur les mesures prises pour atténuer les risques\n",
    "1.2 IDENTITE DU RESPONSABLE DE TRAITEMENT ET DE SES PARTENAIRES\t\n",
    "1.2.1 Identité du responsable de traitement  \n",
    "1.2.1.1 Nom\n",
    "1.2.1.2 Dénomination sociale\n",
    "1.2.1.3 Adresse géographique de l'établissement ou siège social \n",
    "1.2.1.4 Numéro de téléphone\n",
    "1.2.1.5 Adresse postale\n",
    "1.2.1.6 Adresse électronique\n",
    "1.2.1.7 Numéro de télécopieur\n",
    "1.2.1.8 Autres \n",
    "1.2.2 Réalisation d'un traitement par un sous-traitant\n",
    "1.2.2.1 Mention de l'identité du sous-traitant\n",
    "1.2.2.2 Information sur l'existence d'un contrat régissant le traitement effectué par le sous-traitant\n",
    "1.2.2.3 Nature des données transmises au sous-traitant\n",
    "1.3 INFORMATION SUR LA COMMUNICATION DES DONNEES A DES TIERS \n",
    "1.3.1 Communication des données à des tiers\n",
    "1.3.1.1 Communication à des tiers européens\n",
    "1.3.1.2 Communication à des tiers situés hors UE \n",
    "1.3.1.3 Communication à des tiers non affiliés\n",
    "1.3.1.4 Communication aux autorités\n",
    "1.3.2 Mention de l'identité des tiers\n",
    "1.3.3 Mention de la finalité du transfert \n",
    "1.3.3.1 Pour des besoins de gestion \n",
    "1.3.3.2 A des fins publicitaires\n",
    "1.3.3.3 Pour améliorer les services\n",
    "1.3.3.4 En cas de fusion/absorption\n",
    "1.3.3.5 Autres\n",
    "1.3.4 Information sur le moment de la communication des données pour la première fois à des tiers\n",
    "1.3.5 Clause sur l'information des destinataires en cas de demande de l'utilisateur de l'effacement de ses données personnelles \n",
    "1.3.6 Consentement concernant le transfert des données\n",
    "1.3.6.1 Opt-in\n",
    "1.3.6.2 Opt-out\n",
    "1.3.7 Information sur les types de données transférées\n",
    "1.3.8 Information sur le niveau de protection des pays tiers destinataires des données \n",
    "1.3.9 Garanties offertes par les tiers\n",
    "1.3.9.1 Information sur l'existence (ou l'absence) d'une décision d'adéquation rendue par la Commission \n",
    "1.3.9.2 La référence aux garanties appropriées\n",
    "1.3.9.3 La mention des moyens d'obtenir une copie ou l'endroit où elles ont été mises à disposition \n",
    "1.3.10 Information sur le contrat liant le professionnel aux tiers \n",
    "1.3.11 Communication à des tiers sous forme agrégée ou anonymisée\n",
    "1.3.12 Agrégation des données \n",
    "1.4 DROITS DE LA PERSONNE CONCERNEE \n",
    "1.4.1 Droit d'opposition \n",
    "1.4.2 Droit d'accès \t1.4.2 Droit d'accès \n",
    "1.4.3 Droit de rectification \n",
    "1.4.4 Droit à l'effacement \n",
    "1.4.5 Droit à la portabilité \n",
    "1.4.5.1 Durée de la possibilité d'accès \n",
    "1.4.5.2 Récupération gratuite des données \n",
    "1.4.5.3 Récupération des données dans un standard ouvert et aisément réutilisable\n",
    "1.4.6 Demande de limitation du traitement \n",
    "1.4.7 Droit de choisir le niveau d'accès destiné aux tiers\n",
    "1.4.8 Modalités d'exercice de ces droits\n",
    "1.4.8.1 Par voie électronique\n",
    "1.4.8.2 Autres \n",
    "1.4.9 Suppression du compte\n",
    "1.4.9.1 Accès facile au menu permettant la suppression du compte \n",
    "1.4.9.2 Suppression imposée\n",
    "1.4.9.3 Conservation des données après suppression du compte \n",
    "1.4.10 Délai d'inactivité au terme duquel le compte sera considéré comme ayant expiré\n",
    "1.4.11 Droit d'introduire une réclamation auprès d'une autorité de contrôle\n",
    "1.5 COOKIES ET TRACEURS\n",
    "1.5.1 Information sur l'existence de cookies et autres outils de traçage\n",
    "1.5.1.1 Définition du terme cookie\n",
    "1.5.1.2 Finalité des cookies\n",
    "1.5.1.3 Opt-in\n",
    "1.5.1.4 Opt-out\n",
    "1.5.1.5 Consentement révocable\n",
    "1.5.1.6 Mention des conséquences en cas d'opposition concernant les cookies\n",
    "1.5.1.7 Information sur la durée de vie des cookies \n",
    "1.5.2 Mention de l'existence de liens avec des réseaux sociaux ou autres sites \n",
    "1.5.3 Charte de sites tiers\n",
    "1.5.4 Charte spécifique, CGU/CGV ou cookies\n",
    "1.5.4.1 Charte spécifique\n",
    "1.5.4.2 CGU/CGV\n",
    "1.5.4.3 Cookies\n",
    "1.6 CONSENTEMENT \n",
    "1.6.1 Consentement acceptation \n",
    "1.6.1.1 Consentement tacite (acceptation implicite)\n",
    "1.6.1.2 Consentement révocable\n",
    "1.6.1.3 Clause définissant les étapes de l'offre et de l'acceptation (double clic, etc.)\n",
    "1.6.2 Etendue du consentement \n",
    "1.6.2.1 Consentement global\n",
    "1.6.2.2 Consentement par catégories de données \n",
    "1.6.2.3 Consentement par finalité \n",
    "1.6.3 Information sur la modification unilatérale de la charte\n",
    "1.6.3.1 Clause sur les modifications éventuelles du contenu de la charte \n",
    "1.6.3.2 Modification portant sur le fonctionnement technique du site\n",
    "1.6.3.3 Modification portant sur le contenu des clauses\n",
    "1.6.3.4 Modification de la contrepartie monétaire \n",
    "1.6.4 Consentement concernant la modification \t\n",
    "1.6.4.1 Acceptation explicite\n",
    "1.6.4.2 Acceptation implicite\n",
    "1.6.4.3 Possibilité de résiliation du contrat\n",
    "2. SECURITE  \n",
    "2.1 Sécurité \n",
    "2.1.1 Appartient à l'utilisateur la charge de protéger ses données\n",
    "2.1.2 Information en cas de faille de sécurité\n",
    "2.2 Mesures prises pour assurer la sécurité \n",
    "2.2.1 Pare-feu\n",
    "2.2.2 Codes d'accès confidentiels\n",
    "2.2.3 Cryptage\n",
    "2.2.4 Protection de laccès aux locaux\n",
    "2.2.5 Serveurs de sauvegarde\n",
    "2.2.6 Autres \n",
    "2.3 Protection des données dès la conception \n",
    "2.3.1 Paramètres par défaut respectueux de la vie privée\n",
    "2.3.2 Application du principe de minimisation \n",
    "2.4 CNIL\n",
    "3. CLAUSES PARTICULIERES\n",
    "3.1 COMPETENCE JURIDICTIONNELLE ET LOI APPLICABLE \n",
    "3.1.1 Juridiction compétente\t\n",
    "3.1.2 Loi applicable\t\n",
    "3.1.3 Clause entravant le recours en justice\n",
    "3.1.3.1 Limitation des délais de réclamation légaux\n",
    "3.1.3.2 Interdiction de recours à l'arbitrage\n",
    "3.1.3.3 Interdiction des recours collectifs\n",
    "3.2 AUTRES\n",
    "3.2.1 Responsabilité \n",
    "3.2.1.1 Clause limitative de responsabilité\n",
    "3.2.1.2 Clause exclusive de responsabilité\n",
    "3.2.1.3 Clause renvoyant à la responsabilité d'un tiers \n",
    "3.2.2 Clause de gratuité\n",
    "3.2.3 Clause de référence aux mineurs\n",
    "3.2.3.1 Clause renvoyant aux mineurs\n",
    "3.2.3.2 Droit à l'effacement \n",
    "3.2.3.3 Exigence du consentement du titulaire de la responsabilité parentale \n",
    "4. FORME DE LA CHARTE \n",
    "4.1 Clarté \n",
    "4.2 Accessibilité\n",
    "4.2.1 Informations disponibles préalablement à l'installation de l'application \n",
    "4.2.2 Informations accessibles après l'installation de l'application \n",
    "4.3 Modalités d'accès\n",
    "4.3.1 Charte accessible via un lien hypertexte\n",
    "4.3.2 Charte accessible directement sur la page d'accueil \n",
    "4.3.3 Existence de clauses de renvoi\n",
    "4.3.4 Informations présentées sous forme de strates\n",
    "4.4 Intelligibilité\n",
    "4.4.1 Langue\n",
    "4.4.2 Existence de deux ou plusieurs versions linguistiques\n",
    "4.4.3 Clause de primauté de langue\n",
    "4.4.4 Langage simple\n",
    "4.5 Absence de faute de grammaire et traduction \n",
    "4.5.1 Existence ou non d'une faute de grammaire\n",
    "4.5.2 Traduction correcte si charte traduite\n",
    "4.6 Clause apparente \n",
    "\n",
    "\"\"\"})\n",
    "\n",
    "# Le message\n",
    "\n",
    "messages.append({\"role\": \"user\", \"content\": \"\"\"\n",
    "Voici la charte de vie privée. Tu lis cette charte et tu annotes la charte en mettant tes réponses dans un tableau à 2 colonnes. La première colonne indique le numéro du critère trouvé et la seconde colonne prend l’extrait de texte (le plus court possible) de la charte de vie privée où tu as identifié la présence du critère : « Protection des données\n",
    "La politique européenne en matière de protection des données à caractère personnel vise à établir un équilibre entre un niveau élevé de protection de la vie privée des personnes et la libre circulation des données à caractère personnel au sein de l'Union européenne.\n",
    "En application de la loi Informatique et Libertés du 6 janvier 1978, vous disposez d'un droit d'accès, de modification, de rectification et de suppression des données vous concernant: il suffira de nous contacter par mail à ce sujet, pour vous désabonner de la newsletter par exemple.\n",
    "Les données personnelles collectées sur notre site sont utilisées pour réaliser le traitement des commandes et gérer la relation commerciale (livraisons, factures, service après vente). Nous pouvons également utiliser vos données à des fins publicitaires, soit après avoir recueilli votre consentement exprès, soit dans les limites autorisées par la loi. Nous sommes également susceptibles d’utiliser vos données pour satisfaire le cas échéant à nos obligations légales et/ou règlementaires.\n",
    "Les destinataires de vos données à caractère personnel sont, le cas échéant, nos prestataires de moyens de paiement ou de sécurisation des paiements, nos prestataires de livraison, nos partenaires commerciaux. Dans le cas où cela est exigé par la loi, votre consentement est recueilli ou une possibilité de refus vous est aménagée avant toute transmission de données.\n",
    "Si vous choisissez de souscrire à la garantie de remboursement, des données personnelles vous concernant seront transmises à la société Trusted Shops. Vous trouverez plus de détails dans la politique de protection des données personnelles de Trusted Shops. (www.trustedshops.fr/marchands/mentionslegales.html)\n",
    "De fausses informations peuvent entraîner l´annulation du contrat.\n",
    "Nous nous engageons à respecter les dispositions légales et d´assurer le respect de votre vie privée en ne divulguant vos coordonnées à aucun autre site internet et à assurer la sécurité des informations par les nouvelles technologies disponibles (du type SSL ou firewalls).\n",
    "Si vous êtes inscrit à la newsletter, nous enregistrons votre adresse e-mail à des fins publicitaires et de recherche de marché et ce jusqu'au désabonnement. Le cas échéant, vous avez donné expressément l'accord suivant. Nous souhaitons vous informer que vous pouvez révoquer à tout moment votre accord avec effet pour l'avenir :\n",
    "Autorisation pour les publicités par e-mail (newsletter)\n",
    "»Je souhaite m'abonner à la newsletter. Ainsi, vous recevrez également de notre part des offres exclusives qui sont pour certaines uniquement valables pour les abonnés de la newsletter. La désinscription est possible à tout moment. Afin de vous désinscrire de la liste de distribution, cliquez sur le lien de désinscription en 1 clic qui se trouve à la fin de chaque newsletter «\n",
    "L'organisme responsable de la collecte des données est Chal-Tec GmbH, Wallstraße 16, 10179 Berlin représentée par son directeur général Peter Chaljawski.\n",
    "1.\tChal-Tec GmbH\n",
    "2.\tWallstraße 16\n",
    "3.\t10179 Berlin\n",
    "4.\tAllemagne\n",
    "1.\tTéléphone : +33 (0) 3 - 68780203* du lundi au vendredi de 10:00 à 17:00**\n",
    "2.\tFax: +49 (0) 30 - 408 173 505***\n",
    "3.\tCourriel: info@auna.fr\n",
    "*coût d´un appel local/**sauf jours fériés/***prix d´un appel international.\n",
    "Technologie utilisée par notre site : COOKIES\n",
    "\n",
    "\"\"\"})\n",
    "\n",
    "\n",
    "completion = completion = completion = client.chat.completions.create(\n",
    "  model=\"gpt-3.5-turbo\",\n",
    "  #model=\"gpt-4-1106-preview\",\n",
    "  messages=messages\n",
    ")\n",
    "\n",
    "response_chatgpt = completion.choices[0].message.content\n",
    "\n",
    "print(response_chatgpt)\n",
    "\n",
    "\n",
    "\n"
   ]
  }
 ],
 "metadata": {
  "kernelspec": {
   "display_name": "Python 3 (ipykernel)",
   "language": "python",
   "name": "python3"
  },
  "language_info": {
   "codemirror_mode": {
    "name": "ipython",
    "version": 3
   },
   "file_extension": ".py",
   "mimetype": "text/x-python",
   "name": "python",
   "nbconvert_exporter": "python",
   "pygments_lexer": "ipython3",
   "version": "3.8.18"
  }
 },
 "nbformat": 4,
 "nbformat_minor": 5
}
